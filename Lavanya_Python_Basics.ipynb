{
  "nbformat": 4,
  "nbformat_minor": 0,
  "metadata": {
    "colab": {
      "provenance": []
    },
    "kernelspec": {
      "name": "python3",
      "display_name": "Python 3"
    },
    "language_info": {
      "name": "python"
    }
  },
  "cells": [
    {
      "cell_type": "code",
      "source": [
        "old_age=int(input(\"Enter Your Age: \"))\n",
        "new_age=old_age+2\n",
        "print(new_age)"
      ],
      "metadata": {
        "colab": {
          "base_uri": "https://localhost:8080/"
        },
        "id": "oGXM9E0uBFvV",
        "outputId": "726bbc73-9a18-4e56-f60b-b009dbe1b141"
      },
      "execution_count": null,
      "outputs": [
        {
          "output_type": "stream",
          "name": "stdout",
          "text": [
            "Enter Your Age: 15\n",
            "17\n"
          ]
        }
      ]
    },
    {
      "cell_type": "code",
      "source": [
        "print(5 + 2)\n",
        "print(5 - 2)\n",
        "print(5 * 2)\n",
        "print(5 / 2)\n",
        "print( 5 // 2)\n",
        "print(5 % 2)\n",
        "print(5 ** 2)"
      ],
      "metadata": {
        "id": "y1ktM2xGB4fz",
        "outputId": "d15aff19-8656-49c5-af4f-3790165b4844",
        "colab": {
          "base_uri": "https://localhost:8080/"
        }
      },
      "execution_count": null,
      "outputs": [
        {
          "output_type": "stream",
          "name": "stdout",
          "text": [
            "7\n",
            "3\n",
            "10\n",
            "2.5\n",
            "2\n",
            "1\n",
            "25\n"
          ]
        }
      ]
    },
    {
      "cell_type": "code",
      "source": [
        "result = 3 + 5 * 2\n",
        "print(result)"
      ],
      "metadata": {
        "colab": {
          "base_uri": "https://localhost:8080/"
        },
        "id": "B4muKgTMDEeH",
        "outputId": "2a0d9533-d0a4-4739-e7b7-5c9f3d85fff9"
      },
      "execution_count": 14,
      "outputs": [
        {
          "output_type": "stream",
          "name": "stdout",
          "text": [
            "13\n"
          ]
        }
      ]
    },
    {
      "cell_type": "code",
      "execution_count": 13,
      "metadata": {
        "colab": {
          "base_uri": "https://localhost:8080/"
        },
        "id": "Fz6CCxAp_EQt",
        "outputId": "f4c2df41-e5a8-47d6-e92d-d58cb6a0656a"
      },
      "outputs": [
        {
          "output_type": "stream",
          "name": "stdout",
          "text": [
            "Enter Your first_name: Lavanya\n",
            "Enter Your last_name: Karimikonda\n",
            "Enter Your Age: 10\n",
            "Lavanya Karimikonda\n",
            "10\n",
            "Your are not an Adult False\n"
          ]
        }
      ],
      "source": [
        "first_name=input(\"Enter Your first_name: \")\n",
        "last_name=input(\"Enter Your last_name: \")\n",
        "age=int(input(\"Enter Your Age: \"))\n",
        "if age>=18:\n",
        "  is_adult=True\n",
        "  print(first_name+\" \"+last_name)\n",
        "  print(age)\n",
        "  print(\"Your are an Adult\", is_adult)\n",
        "else:\n",
        "  is_adult=False\n",
        "  print(first_name+\" \"+last_name)\n",
        "  print(age)\n",
        "  print(\"Your are not an Adult\", is_adult)"
      ]
    },
    {
      "cell_type": "code",
      "source": [
        "first = int(input(\"Enter first number : \"))\n",
        "second =int(input(\"Enter second number : \"))\n",
        "print(\"----press keys for operator (+,-,*,/,%)----------\")\n",
        "operator = input(\"Enter operator : \")\n",
        "if operator == \"+\":\n",
        "  print(first + second)\n",
        "elif operator == \"-\":\n",
        "  print(first - second)\n",
        "elif operator == \"*\":\n",
        "  print(first * second)\n",
        "elif operator == \"/\":\n",
        "  print(first / second)\n",
        "elif operator == \"%\":\n",
        "  print(first % second)\n",
        "else:\n",
        "  print(\"Invalid Operation\")"
      ],
      "metadata": {
        "colab": {
          "base_uri": "https://localhost:8080/"
        },
        "id": "hAOojhp4ETi_",
        "outputId": "96f413cf-a76d-4994-c2ca-06772cea5b81"
      },
      "execution_count": 15,
      "outputs": [
        {
          "output_type": "stream",
          "name": "stdout",
          "text": [
            "Enter first number : 10\n",
            "Enter second number : 20\n",
            "----press keys for operator (+,-,*,/,%)----------\n",
            "Enter operator : *\n",
            "200\n"
          ]
        }
      ]
    },
    {
      "cell_type": "code",
      "source": [
        "i=int(input(\"Enter Your Number: \"))\n",
        "while i<=5:\n",
        "  print(i * \"*\")\n",
        "  i=i+1"
      ],
      "metadata": {
        "colab": {
          "base_uri": "https://localhost:8080/"
        },
        "id": "JFI-Oh9hFBcX",
        "outputId": "158192c7-272a-4b7c-a785-6a1c54472ca3"
      },
      "execution_count": 16,
      "outputs": [
        {
          "output_type": "stream",
          "name": "stdout",
          "text": [
            "Enter Your Number: 1\n",
            "*\n",
            "**\n",
            "***\n",
            "****\n",
            "*****\n"
          ]
        }
      ]
    },
    {
      "cell_type": "code",
      "source": [
        "i = 5\n",
        "while(i >= 1):\n",
        "  print(i * \"*\")\n",
        "  i = i - 1"
      ],
      "metadata": {
        "colab": {
          "base_uri": "https://localhost:8080/"
        },
        "id": "bPCYMPOlFme-",
        "outputId": "82c9ad03-b3c3-40c4-87a0-8dec04c9bdfc"
      },
      "execution_count": 17,
      "outputs": [
        {
          "output_type": "stream",
          "name": "stdout",
          "text": [
            "*****\n",
            "****\n",
            "***\n",
            "**\n",
            "*\n"
          ]
        }
      ]
    },
    {
      "cell_type": "code",
      "source": [
        "for i in range(6):\n",
        "  print(i*\"*\")\n",
        "  i=i+1"
      ],
      "metadata": {
        "colab": {
          "base_uri": "https://localhost:8080/"
        },
        "id": "KwaFtrT1FyKt",
        "outputId": "44fdc955-5301-4c1d-dff2-958928662f8a"
      },
      "execution_count": 20,
      "outputs": [
        {
          "output_type": "stream",
          "name": "stdout",
          "text": [
            "\n",
            "*\n",
            "**\n",
            "***\n",
            "****\n",
            "*****\n"
          ]
        }
      ]
    },
    {
      "cell_type": "code",
      "source": [
        "friends = [\"amar\", \"akbar\", \"anthony\"]\n",
        "friends"
      ],
      "metadata": {
        "colab": {
          "base_uri": "https://localhost:8080/"
        },
        "id": "R6DrU93KGGaV",
        "outputId": "1966c553-3fa6-4f12-ef20-1d0f567f7a41"
      },
      "execution_count": 21,
      "outputs": [
        {
          "output_type": "execute_result",
          "data": {
            "text/plain": [
              "['amar', 'akbar', 'anthony']"
            ]
          },
          "metadata": {},
          "execution_count": 21
        }
      ]
    },
    {
      "cell_type": "code",
      "source": [
        "friends[0]"
      ],
      "metadata": {
        "colab": {
          "base_uri": "https://localhost:8080/",
          "height": 36
        },
        "id": "kekQeyETGPyU",
        "outputId": "6b49f844-6dd8-4239-d645-d98a0cf1dbc1"
      },
      "execution_count": 22,
      "outputs": [
        {
          "output_type": "execute_result",
          "data": {
            "text/plain": [
              "'amar'"
            ],
            "application/vnd.google.colaboratory.intrinsic+json": {
              "type": "string"
            }
          },
          "metadata": {},
          "execution_count": 22
        }
      ]
    },
    {
      "cell_type": "code",
      "source": [
        "friends[:2]"
      ],
      "metadata": {
        "colab": {
          "base_uri": "https://localhost:8080/"
        },
        "id": "d2CjjM17GTet",
        "outputId": "53176673-a1ab-441b-b2a8-aa4d793ad404"
      },
      "execution_count": 23,
      "outputs": [
        {
          "output_type": "execute_result",
          "data": {
            "text/plain": [
              "['amar', 'akbar']"
            ]
          },
          "metadata": {},
          "execution_count": 23
        }
      ]
    },
    {
      "cell_type": "code",
      "source": [
        "friends.append(\"kabir\")\n",
        "friends"
      ],
      "metadata": {
        "colab": {
          "base_uri": "https://localhost:8080/"
        },
        "id": "4ci_1ouAGdo-",
        "outputId": "70af122d-25e2-4171-eacb-5ecbecd07655"
      },
      "execution_count": 24,
      "outputs": [
        {
          "output_type": "execute_result",
          "data": {
            "text/plain": [
              "['amar', 'akbar', 'anthony', 'kabir']"
            ]
          },
          "metadata": {},
          "execution_count": 24
        }
      ]
    },
    {
      "cell_type": "code",
      "source": [
        "friends.insert(1,\"mark\")\n",
        "friends"
      ],
      "metadata": {
        "colab": {
          "base_uri": "https://localhost:8080/"
        },
        "id": "UGzlxTjRGoU6",
        "outputId": "2d0c1dbd-0f62-4f5d-bdd1-743aaeb22d73"
      },
      "execution_count": 25,
      "outputs": [
        {
          "output_type": "execute_result",
          "data": {
            "text/plain": [
              "['amar', 'mark', 'akbar', 'anthony', 'kabir']"
            ]
          },
          "metadata": {},
          "execution_count": 25
        }
      ]
    },
    {
      "cell_type": "code",
      "source": [
        "students = [\"ram\", \"shyam\", \"kishan\", \"radha\", \"radhika\"]\n",
        "students"
      ],
      "metadata": {
        "colab": {
          "base_uri": "https://localhost:8080/"
        },
        "id": "vfPT3gqPL9Ov",
        "outputId": "24f9aae8-e4a2-4b87-896b-a76971f4ccb1"
      },
      "execution_count": 32,
      "outputs": [
        {
          "output_type": "execute_result",
          "data": {
            "text/plain": [
              "['ram', 'shyam', 'kishan', 'radha', 'radhika']"
            ]
          },
          "metadata": {},
          "execution_count": 32
        }
      ]
    },
    {
      "cell_type": "code",
      "source": [
        "for i in range(9):\n",
        "  if i>3:\n",
        "    break\n",
        "  print(i)"
      ],
      "metadata": {
        "colab": {
          "base_uri": "https://localhost:8080/"
        },
        "id": "3PurhyxQLCzY",
        "outputId": "d8fd24c2-a65b-4894-a5b4-5d43123e189f"
      },
      "execution_count": 38,
      "outputs": [
        {
          "output_type": "stream",
          "name": "stdout",
          "text": [
            "0\n",
            "1\n",
            "2\n",
            "3\n"
          ]
        }
      ]
    },
    {
      "cell_type": "code",
      "source": [
        "i = 0\n",
        "while i < 9:\n",
        "  i = i+1\n",
        "  if i == 3:\n",
        "    continue\n",
        "  print(i)"
      ],
      "metadata": {
        "colab": {
          "base_uri": "https://localhost:8080/"
        },
        "id": "jW6mYM1iM_4W",
        "outputId": "7bb94389-5f0f-479e-af87-ed096b9d03e5"
      },
      "execution_count": 40,
      "outputs": [
        {
          "output_type": "stream",
          "name": "stdout",
          "text": [
            "1\n",
            "2\n",
            "4\n",
            "5\n",
            "6\n",
            "7\n",
            "8\n",
            "9\n"
          ]
        }
      ]
    },
    {
      "cell_type": "code",
      "source": [
        "import math\n",
        "import random"
      ],
      "metadata": {
        "id": "kCdqW7R-NX1u"
      },
      "execution_count": 41,
      "outputs": []
    },
    {
      "cell_type": "code",
      "source": [
        "math.ceil(3.4)"
      ],
      "metadata": {
        "colab": {
          "base_uri": "https://localhost:8080/"
        },
        "id": "yNJDG4MbNjA-",
        "outputId": "30b45db6-ee97-4687-da98-4eaf744107d9"
      },
      "execution_count": 42,
      "outputs": [
        {
          "output_type": "execute_result",
          "data": {
            "text/plain": [
              "4"
            ]
          },
          "metadata": {},
          "execution_count": 42
        }
      ]
    },
    {
      "cell_type": "code",
      "source": [
        "math.comb(10,25) # (n,k) => k<=n -> n! / (k! * (n - k)!) || k>n ->0"
      ],
      "metadata": {
        "colab": {
          "base_uri": "https://localhost:8080/"
        },
        "id": "F_THtRMINnvn",
        "outputId": "4eb85e2d-ed1e-46f4-b008-c967da37052c"
      },
      "execution_count": 44,
      "outputs": [
        {
          "output_type": "execute_result",
          "data": {
            "text/plain": [
              "0"
            ]
          },
          "metadata": {},
          "execution_count": 44
        }
      ]
    },
    {
      "cell_type": "code",
      "source": [
        "math.comb(10,5)"
      ],
      "metadata": {
        "colab": {
          "base_uri": "https://localhost:8080/"
        },
        "id": "MEPuwjYQO2ik",
        "outputId": "81d5dec1-cf67-4f83-a606-2069fa037adf"
      },
      "execution_count": 45,
      "outputs": [
        {
          "output_type": "execute_result",
          "data": {
            "text/plain": [
              "252"
            ]
          },
          "metadata": {},
          "execution_count": 45
        }
      ]
    },
    {
      "cell_type": "code",
      "source": [
        "math.copysign(10,-20)"
      ],
      "metadata": {
        "colab": {
          "base_uri": "https://localhost:8080/"
        },
        "id": "Lantwv12O5__",
        "outputId": "ec1b0309-1ccc-4bb1-c3f3-a332e7371ce7"
      },
      "execution_count": 46,
      "outputs": [
        {
          "output_type": "execute_result",
          "data": {
            "text/plain": [
              "-10.0"
            ]
          },
          "metadata": {},
          "execution_count": 46
        }
      ]
    },
    {
      "cell_type": "code",
      "source": [
        "math.factorial(5)"
      ],
      "metadata": {
        "colab": {
          "base_uri": "https://localhost:8080/"
        },
        "id": "diTVue2jPDRf",
        "outputId": "c11c23f4-0ef5-4f80-88c5-43fd4704e497"
      },
      "execution_count": 47,
      "outputs": [
        {
          "output_type": "execute_result",
          "data": {
            "text/plain": [
              "120"
            ]
          },
          "metadata": {},
          "execution_count": 47
        }
      ]
    },
    {
      "cell_type": "code",
      "source": [
        "math.floor(10.9)"
      ],
      "metadata": {
        "colab": {
          "base_uri": "https://localhost:8080/"
        },
        "id": "gRI9jHUxPGLO",
        "outputId": "ee001048-3c75-401e-87ff-112e97dec9d1"
      },
      "execution_count": 48,
      "outputs": [
        {
          "output_type": "execute_result",
          "data": {
            "text/plain": [
              "10"
            ]
          },
          "metadata": {},
          "execution_count": 48
        }
      ]
    },
    {
      "cell_type": "code",
      "source": [
        "math.fabs(-5)"
      ],
      "metadata": {
        "colab": {
          "base_uri": "https://localhost:8080/"
        },
        "id": "z7onDrPvPKKX",
        "outputId": "d9ba5969-2687-4ba2-9d7c-4e3cc079c7d5"
      },
      "execution_count": 49,
      "outputs": [
        {
          "output_type": "execute_result",
          "data": {
            "text/plain": [
              "5.0"
            ]
          },
          "metadata": {},
          "execution_count": 49
        }
      ]
    },
    {
      "cell_type": "code",
      "source": [
        "import random\n",
        "list1=[1,2,3,4,5,6]\n",
        "print(random.choice(list1))"
      ],
      "metadata": {
        "colab": {
          "base_uri": "https://localhost:8080/"
        },
        "id": "SVLJI-0E8Qqq",
        "outputId": "5b56e737-642d-4a19-a629-0af893a1a711"
      },
      "execution_count": 66,
      "outputs": [
        {
          "output_type": "stream",
          "name": "stdout",
          "text": [
            "6\n"
          ]
        }
      ]
    },
    {
      "cell_type": "code",
      "source": [
        "random.seed(5)\n",
        "print(random.random())\n",
        "print(random.random())"
      ],
      "metadata": {
        "colab": {
          "base_uri": "https://localhost:8080/"
        },
        "id": "BxiwkwZx8lb4",
        "outputId": "8904dc09-c8e9-4a65-f266-519cb6b4415e"
      },
      "execution_count": 60,
      "outputs": [
        {
          "output_type": "stream",
          "name": "stdout",
          "text": [
            "0.6229016948897019\n",
            "0.7417869892607294\n"
          ]
        }
      ]
    },
    {
      "cell_type": "code",
      "source": [
        "random.randint(5,10)"
      ],
      "metadata": {
        "colab": {
          "base_uri": "https://localhost:8080/"
        },
        "id": "zk37xzt08qX-",
        "outputId": "4c469c2b-6f84-4e54-f3e5-1a76b5db66b6"
      },
      "execution_count": 61,
      "outputs": [
        {
          "output_type": "execute_result",
          "data": {
            "text/plain": [
              "10"
            ]
          },
          "metadata": {},
          "execution_count": 61
        }
      ]
    },
    {
      "cell_type": "code",
      "source": [
        "import random\n",
        "from random import random\n",
        "print(random())"
      ],
      "metadata": {
        "colab": {
          "base_uri": "https://localhost:8080/"
        },
        "id": "M36ZGwBK8zQD",
        "outputId": "5bee2d8a-b391-4f1e-9a93-b603dde03cbd"
      },
      "execution_count": 67,
      "outputs": [
        {
          "output_type": "stream",
          "name": "stdout",
          "text": [
            "0.6520316967541351\n"
          ]
        }
      ]
    },
    {
      "cell_type": "code",
      "source": [
        "list1=[1,2,3,4,5,6]"
      ],
      "metadata": {
        "id": "GRewkBiK9V1s"
      },
      "execution_count": 69,
      "outputs": []
    },
    {
      "cell_type": "code",
      "source": [
        "import random\n",
        "\n",
        "sample_list = [1, 2, 3, 4, 5]\n",
        "\n",
        "print(\"Original list : \")\n",
        "print(sample_list)\n",
        "\n",
        "random.shuffle(sample_list)\n",
        "print(\"\\nAfter the first shuffle : \")\n",
        "print(sample_list)\n",
        "\n",
        "random.shuffle(sample_list)\n",
        "print(\"\\n After the second shuffle : \")\n",
        "print(sample_list)"
      ],
      "metadata": {
        "colab": {
          "base_uri": "https://localhost:8080/"
        },
        "id": "CI8L2A5S9Hyk",
        "outputId": "6d920e2c-b097-4103-b4a6-49b5589f7252"
      },
      "execution_count": 72,
      "outputs": [
        {
          "output_type": "stream",
          "name": "stdout",
          "text": [
            "Original list : \n",
            "[1, 2, 3, 4, 5]\n",
            "\n",
            "After the first shuffle : \n",
            "[3, 1, 5, 2, 4]\n",
            "\n",
            " After the second shuffle : \n",
            "[2, 5, 3, 1, 4]\n"
          ]
        }
      ]
    },
    {
      "cell_type": "code",
      "source": [
        "num=int(input(\"Enter the Number: \"))\n",
        "for i in range(5):\n",
        "    for j in range(num):\n",
        "        print(num,end=\" \")\n",
        "    print(\"\\n\")"
      ],
      "metadata": {
        "colab": {
          "base_uri": "https://localhost:8080/"
        },
        "id": "oMHUFcrCeiJO",
        "outputId": "516c621e-76ee-4cce-bf59-662e68d08632"
      },
      "execution_count": 50,
      "outputs": [
        {
          "output_type": "stream",
          "name": "stdout",
          "text": [
            "Enter the Number: 5\n",
            "5 5 5 5 5 \n",
            "\n",
            "5 5 5 5 5 \n",
            "\n",
            "5 5 5 5 5 \n",
            "\n",
            "5 5 5 5 5 \n",
            "\n",
            "5 5 5 5 5 \n",
            "\n"
          ]
        }
      ]
    },
    {
      "cell_type": "code",
      "source": [
        "n=5\n",
        "for i in range(n):\n",
        "    for j in range(i+1):\n",
        "        print('*',end=\" \")\n",
        "    print(\"\\n\")"
      ],
      "metadata": {
        "colab": {
          "base_uri": "https://localhost:8080/"
        },
        "id": "UUq_EswjeozF",
        "outputId": "9483577b-a7fe-4255-a329-8a96db364b77"
      },
      "execution_count": 51,
      "outputs": [
        {
          "output_type": "stream",
          "name": "stdout",
          "text": [
            "* \n",
            "\n",
            "* * \n",
            "\n",
            "* * * \n",
            "\n",
            "* * * * \n",
            "\n",
            "* * * * * \n",
            "\n"
          ]
        }
      ]
    },
    {
      "cell_type": "code",
      "source": [
        "num=5\n",
        "for i in range(num):\n",
        "    for j in range(i,num):\n",
        "        print('#',end=\" \")\n",
        "    print(\"\\n\")"
      ],
      "metadata": {
        "colab": {
          "base_uri": "https://localhost:8080/"
        },
        "id": "vGyef_h4fqCk",
        "outputId": "86b99591-11ed-4adf-fb14-d2f0515d988a"
      },
      "execution_count": 58,
      "outputs": [
        {
          "output_type": "stream",
          "name": "stdout",
          "text": [
            "# # # # # \n",
            "\n",
            "# # # # \n",
            "\n",
            "# # # \n",
            "\n",
            "# # \n",
            "\n",
            "# \n",
            "\n"
          ]
        }
      ]
    },
    {
      "cell_type": "code",
      "source": [
        "for i in range(5):\n",
        "    for k in range(i,n):\n",
        "        print(\" \", end=\" \")\n",
        "    for j in range(i+1):\n",
        "        print('*',end=\" \")\n",
        "    for j in range(i):\n",
        "        print('*',end=\" \")\n",
        "    print(\"\\n\")"
      ],
      "metadata": {
        "colab": {
          "base_uri": "https://localhost:8080/"
        },
        "id": "16j-wSD4exAn",
        "outputId": "8b320957-a7d7-46bd-81b4-aecaf6895758"
      },
      "execution_count": 56,
      "outputs": [
        {
          "output_type": "stream",
          "name": "stdout",
          "text": [
            "          * \n",
            "\n",
            "        * * * \n",
            "\n",
            "      * * * * * \n",
            "\n",
            "    * * * * * * * \n",
            "\n",
            "  * * * * * * * * * \n",
            "\n"
          ]
        }
      ]
    }
  ]
}