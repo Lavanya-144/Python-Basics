{
  "nbformat": 4,
  "nbformat_minor": 0,
  "metadata": {
    "colab": {
      "provenance": []
    },
    "kernelspec": {
      "name": "python3",
      "display_name": "Python 3"
    },
    "language_info": {
      "name": "python"
    }
  },
  "cells": [
    {
      "cell_type": "markdown",
      "source": [
        "# Functions Exercises"
      ],
      "metadata": {
        "id": "dJ8kev1a1JTH"
      }
    },
    {
      "cell_type": "code",
      "source": [
        "def demo(name,age):\n",
        "  print(name,age)\n",
        "demo(\"Lavanya\",25)"
      ],
      "metadata": {
        "colab": {
          "base_uri": "https://localhost:8080/"
        },
        "id": "PQx1F6p_1N1u",
        "outputId": "cecbdc0b-2627-4fc3-eac2-e1f4617a40f2"
      },
      "execution_count": null,
      "outputs": [
        {
          "output_type": "stream",
          "name": "stdout",
          "text": [
            "Lavanya 25\n"
          ]
        }
      ]
    },
    {
      "cell_type": "code",
      "source": [
        "def fun(*args):\n",
        "  for i in args:\n",
        "    print(i)\n",
        "fun(20,40,60)\n",
        "fun(30,50)"
      ],
      "metadata": {
        "colab": {
          "base_uri": "https://localhost:8080/"
        },
        "id": "xSikfMY116ze",
        "outputId": "ca998362-7771-4da2-e1bd-547e6c6b307f"
      },
      "execution_count": null,
      "outputs": [
        {
          "output_type": "stream",
          "name": "stdout",
          "text": [
            "20\n",
            "40\n",
            "60\n",
            "30\n",
            "50\n"
          ]
        }
      ]
    },
    {
      "cell_type": "code",
      "source": [
        "def calculation(a, b):\n",
        "  add=a+b\n",
        "  sub=a-b\n",
        "  return add,sub\n",
        "\n",
        "res = calculation(40, 10)\n",
        "print(res)"
      ],
      "metadata": {
        "colab": {
          "base_uri": "https://localhost:8080/"
        },
        "id": "oSdMPymH2OXh",
        "outputId": "15abbc60-84cd-4aa6-b29f-38f8a25bcb5b"
      },
      "execution_count": null,
      "outputs": [
        {
          "output_type": "stream",
          "name": "stdout",
          "text": [
            "(50, 30)\n"
          ]
        }
      ]
    },
    {
      "cell_type": "code",
      "source": [
        "def employee(name,salary=9000):\n",
        "  print(\"Name:\", name,\"Salary\", salary)\n",
        "employee(\"Ben\",12000)\n",
        "employee(\"Jessa\")"
      ],
      "metadata": {
        "colab": {
          "base_uri": "https://localhost:8080/"
        },
        "id": "RJHNwii12ij3",
        "outputId": "67baa3dd-cb33-4e76-b0a1-a841e1d6f7a1"
      },
      "execution_count": null,
      "outputs": [
        {
          "output_type": "stream",
          "name": "stdout",
          "text": [
            "Name: Ben Salary 12000\n",
            "Name: Jessa Salary 9000\n"
          ]
        }
      ]
    },
    {
      "cell_type": "code",
      "source": [
        "def outer_fun(a,b):\n",
        "  square = a**2\n",
        "  def inner_fun(a,b):\n",
        "    return a+b\n",
        "\n",
        "  add=inner_fun(a,b)\n",
        "  return add+5\n",
        "\n",
        "result=outer_fun(10,5)\n",
        "print(result)"
      ],
      "metadata": {
        "colab": {
          "base_uri": "https://localhost:8080/"
        },
        "id": "UXaHY4XV3Z5t",
        "outputId": "e2a8eae8-6c51-470f-a64f-b2c0bb2ab3bb"
      },
      "execution_count": null,
      "outputs": [
        {
          "output_type": "stream",
          "name": "stdout",
          "text": [
            "20\n"
          ]
        }
      ]
    },
    {
      "cell_type": "code",
      "source": [
        "def display_student(name, age):\n",
        "    print(name, age)\n",
        "\n",
        "display_student(\"Emma\", 26)\n",
        "\n",
        "showStudent = display_student\n",
        "\n",
        "showStudent(\"Emma\", 26)"
      ],
      "metadata": {
        "colab": {
          "base_uri": "https://localhost:8080/"
        },
        "id": "YTHtM1cy4z4c",
        "outputId": "1a247f8d-0367-4e16-e6c3-5dd3c0c58163"
      },
      "execution_count": null,
      "outputs": [
        {
          "output_type": "stream",
          "name": "stdout",
          "text": [
            "Emma 26\n",
            "Emma 26\n"
          ]
        }
      ]
    },
    {
      "cell_type": "code",
      "source": [
        "def student(**Name):\n",
        "  print(\" Details of Student\", Name)\n",
        "student(Name=\"Pradeep\",Marks=90)"
      ],
      "metadata": {
        "colab": {
          "base_uri": "https://localhost:8080/"
        },
        "id": "DIDU0MUu0AyG",
        "outputId": "869978f6-2637-49be-9fb1-6b11761be315"
      },
      "execution_count": null,
      "outputs": [
        {
          "output_type": "stream",
          "name": "stdout",
          "text": [
            " Details of Student {'Name': 'Pradeep', 'Marks': 90}\n"
          ]
        }
      ]
    },
    {
      "cell_type": "code",
      "source": [
        "x= lambda a:a+10\n",
        "print(x(5))"
      ],
      "metadata": {
        "colab": {
          "base_uri": "https://localhost:8080/"
        },
        "id": "qDTQJ0ts10b7",
        "outputId": "13890739-fd3f-442d-e7be-f08210ce182c"
      },
      "execution_count": null,
      "outputs": [
        {
          "output_type": "stream",
          "name": "stdout",
          "text": [
            "15\n"
          ]
        }
      ]
    },
    {
      "cell_type": "code",
      "source": [
        "def addition(n):\n",
        "  return n+n\n",
        "num=[1,2,3,4,5]\n",
        "result=map(addition,num) # map(function, iterables)\n",
        "print(tuple(result))"
      ],
      "metadata": {
        "colab": {
          "base_uri": "https://localhost:8080/"
        },
        "id": "Idq0-dSS52un",
        "outputId": "c7b07aef-e8e4-4631-db69-9e9b7ac17f0c"
      },
      "execution_count": null,
      "outputs": [
        {
          "output_type": "stream",
          "name": "stdout",
          "text": [
            "(2, 4, 6, 8, 10)\n"
          ]
        }
      ]
    },
    {
      "cell_type": "code",
      "source": [
        "# filter(function, sequence)\n",
        "def fun(variable):\n",
        "  letters=['a','e','i','o','u']\n",
        "  if variable in letters:\n",
        "    return True\n",
        "  else:\n",
        "    return False\n",
        "# sequence\n",
        "sequence=['g','e','l','o','t','k','a']\n",
        "filtered=filter(fun,sequence)\n",
        "print(\"Printed Filtered Letters are \")\n",
        "for s in filtered:\n",
        "  print(s)"
      ],
      "metadata": {
        "colab": {
          "base_uri": "https://localhost:8080/"
        },
        "id": "4PARy_tk9yKl",
        "outputId": "8b0cd981-74a6-4e8c-effb-5fc6bee5b2ee"
      },
      "execution_count": null,
      "outputs": [
        {
          "output_type": "stream",
          "name": "stdout",
          "text": [
            "Printed Filtered Letters are \n",
            "e\n",
            "o\n",
            "a\n"
          ]
        }
      ]
    },
    {
      "cell_type": "code",
      "source": [
        "from functools import reduce\n",
        "result = reduce((lambda a,b:a*b), [1,2,3,4,5])\n",
        "print(result)"
      ],
      "metadata": {
        "colab": {
          "base_uri": "https://localhost:8080/"
        },
        "id": "_biuA0FaAvyu",
        "outputId": "04aa75db-b2c2-46b0-e838-d93b0a2c5f19"
      },
      "execution_count": null,
      "outputs": [
        {
          "output_type": "stream",
          "name": "stdout",
          "text": [
            "120\n"
          ]
        }
      ]
    },
    {
      "cell_type": "code",
      "source": [
        "even=filter(lambda x:x%2==0,[1,2,3,4,5])\n",
        "print(list(even))"
      ],
      "metadata": {
        "colab": {
          "base_uri": "https://localhost:8080/"
        },
        "id": "RPXtD0PJCjNv",
        "outputId": "107e2f31-550f-4716-de2b-16c7d2d98091"
      },
      "execution_count": null,
      "outputs": [
        {
          "output_type": "stream",
          "name": "stdout",
          "text": [
            "[2, 4]\n"
          ]
        }
      ]
    },
    {
      "cell_type": "markdown",
      "source": [
        "#Dictionary Exercises"
      ],
      "metadata": {
        "id": "DU411Hx1mD9w"
      }
    },
    {
      "cell_type": "code",
      "source": [
        "keys = ['Ten', 'Twenty', 'Thirty']\n",
        "values = [10, 20, 30]\n",
        "result=dict(zip(keys,values))\n",
        "print(result)"
      ],
      "metadata": {
        "colab": {
          "base_uri": "https://localhost:8080/"
        },
        "id": "xk9rKbLFrTgw",
        "outputId": "b6747fd3-1470-4155-f95c-f7906944c931"
      },
      "execution_count": null,
      "outputs": [
        {
          "output_type": "stream",
          "name": "stdout",
          "text": [
            "{'Ten': 10, 'Twenty': 20, 'Thirty': 30}\n"
          ]
        }
      ]
    },
    {
      "cell_type": "code",
      "source": [
        "dict1 = {'Ten': 10, 'Twenty': 20, 'Thirty': 30}\n",
        "dict2 = {'Thirty': 30, 'Fourty': 40, 'Fifty': 50}\n",
        "dict3={**dict1, **dict2}\n",
        "dict3"
      ],
      "metadata": {
        "colab": {
          "base_uri": "https://localhost:8080/"
        },
        "id": "Cffaa1B8rUvU",
        "outputId": "7b5fc42f-58c5-420d-8744-65aab08a5f9e"
      },
      "execution_count": null,
      "outputs": [
        {
          "output_type": "execute_result",
          "data": {
            "text/plain": [
              "{'Ten': 10, 'Twenty': 20, 'Thirty': 30, 'Fourty': 40, 'Fifty': 50}"
            ]
          },
          "metadata": {},
          "execution_count": 8
        }
      ]
    },
    {
      "cell_type": "code",
      "source": [
        "sampleDict = {\n",
        "    \"class\": {\n",
        "        \"student\": {\n",
        "            \"name\": \"Mike\",\n",
        "            \"marks\": {\n",
        "                \"physics\": 70,\n",
        "                \"history\": 80\n",
        "            }\n",
        "        }\n",
        "    }\n",
        "}\n",
        "sampleDict[\"class\"][\"student\"][\"marks\"][\"history\"]"
      ],
      "metadata": {
        "colab": {
          "base_uri": "https://localhost:8080/"
        },
        "id": "2nV2vddVsBez",
        "outputId": "45c16ee3-2244-4884-b0f2-e4de0be473ba"
      },
      "execution_count": null,
      "outputs": [
        {
          "output_type": "execute_result",
          "data": {
            "text/plain": [
              "80"
            ]
          },
          "metadata": {},
          "execution_count": 9
        }
      ]
    },
    {
      "cell_type": "code",
      "source": [
        "employees = ['Kelly', 'Emma']\n",
        "defaults = {\"designation\": 'Developer', \"salary\": 8000}\n",
        "result=dict.fromkeys(employees,defaults)\n",
        "print(result)"
      ],
      "metadata": {
        "colab": {
          "base_uri": "https://localhost:8080/"
        },
        "id": "D_FdtQcLsmKr",
        "outputId": "7327b077-9dd1-44c3-df97-5dfbe07be04d"
      },
      "execution_count": null,
      "outputs": [
        {
          "output_type": "stream",
          "name": "stdout",
          "text": [
            "{'Kelly': {'designation': 'Developer', 'salary': 8000}, 'Emma': {'designation': 'Developer', 'salary': 8000}}\n"
          ]
        }
      ]
    },
    {
      "cell_type": "code",
      "source": [
        "sample_dict = {\n",
        "    \"name\": \"Kelly\",\n",
        "    \"age\": 25,\n",
        "    \"salary\": 8000,\n",
        "    \"city\": \"New york\"}\n",
        "\n",
        "keys = [\"age\", \"city\"]\n",
        "for k in keys:\n",
        "  sample_dict.pop(k)\n",
        "print(sample_dict)"
      ],
      "metadata": {
        "colab": {
          "base_uri": "https://localhost:8080/"
        },
        "id": "vuIpTWILtK72",
        "outputId": "bf6f512f-1ecc-4e95-d147-a99e761e866c"
      },
      "execution_count": null,
      "outputs": [
        {
          "output_type": "stream",
          "name": "stdout",
          "text": [
            "{'name': 'Kelly', 'salary': 8000}\n"
          ]
        }
      ]
    },
    {
      "cell_type": "code",
      "source": [
        "sample_dict = {'a': 100, 'b': 200, 'c': 300}\n",
        "i=int(input(\"Enter a Number: \"))\n",
        "if i in sample_dict.values():\n",
        "  print(\"{} present in a dic\".format(i))\n",
        "else:\n",
        "  print(\"{i} not present in a dic\".format(i))"
      ],
      "metadata": {
        "colab": {
          "base_uri": "https://localhost:8080/"
        },
        "id": "cosqyZ4Uu_Xr",
        "outputId": "ce5b489e-24b4-4fc0-b9fc-c06210403e82"
      },
      "execution_count": null,
      "outputs": [
        {
          "output_type": "stream",
          "name": "stdout",
          "text": [
            "Enter a Number: 100\n",
            "100 present in a dic\n"
          ]
        }
      ]
    },
    {
      "cell_type": "code",
      "source": [
        "sample_dict = {\n",
        "    \"name\": \"Kelly\",\n",
        "    \"age\": 25,\n",
        "    \"salary\": 8000,\n",
        "    \"city\": \"New york\"}\n",
        "sample_dict['location']=sample_dict.pop('city')\n",
        "print(sample_dict)"
      ],
      "metadata": {
        "colab": {
          "base_uri": "https://localhost:8080/"
        },
        "id": "rAAAJZL9wWzS",
        "outputId": "a74a630e-6af1-4f90-f710-b966b2175aab"
      },
      "execution_count": null,
      "outputs": [
        {
          "output_type": "stream",
          "name": "stdout",
          "text": [
            "{'name': 'Kelly', 'age': 25, 'salary': 8000, 'location': 'New york'}\n"
          ]
        }
      ]
    },
    {
      "cell_type": "code",
      "source": [
        "sample_dict1 = {\n",
        "    'Physics': 82,\n",
        "    'Math': 65,\n",
        "    'history': 75\n",
        "}\n",
        "print(min(sample_dict1, key=sample_dict1.get))"
      ],
      "metadata": {
        "colab": {
          "base_uri": "https://localhost:8080/"
        },
        "id": "SjtGqiotwzzQ",
        "outputId": "c68a8bec-6b58-4b14-83ce-71df097a16cc"
      },
      "execution_count": null,
      "outputs": [
        {
          "output_type": "stream",
          "name": "stdout",
          "text": [
            "Math\n"
          ]
        }
      ]
    },
    {
      "cell_type": "code",
      "source": [
        "sample_dict3 = {\n",
        "    'emp1': {'name': 'Jhon', 'salary': 7500},\n",
        "    'emp2': {'name': 'Emma', 'salary': 8000},\n",
        "    'emp3': {'name': 'Brad', 'salary': 500}\n",
        "}\n",
        "sample_dict3['emp3']['salary'] = 8500\n",
        "print(sample_dict3)"
      ],
      "metadata": {
        "colab": {
          "base_uri": "https://localhost:8080/"
        },
        "id": "gMw0tSU3xO-4",
        "outputId": "4dd0b61e-bf65-4e3a-8df7-d409315d0ec8"
      },
      "execution_count": null,
      "outputs": [
        {
          "output_type": "stream",
          "name": "stdout",
          "text": [
            "{'emp1': {'name': 'Jhon', 'salary': 7500}, 'emp2': {'name': 'Emma', 'salary': 8000}, 'emp3': {'name': 'Brad', 'salary': 8500}}\n"
          ]
        }
      ]
    },
    {
      "cell_type": "markdown",
      "source": [
        "# Date And Time Exercises"
      ],
      "metadata": {
        "id": "PBJSyF6xyGm-"
      }
    },
    {
      "cell_type": "code",
      "source": [
        "import datetime\n",
        "x=datetime.datetime.now()\n",
        "print(x)"
      ],
      "metadata": {
        "colab": {
          "base_uri": "https://localhost:8080/"
        },
        "id": "KjCo55ZXyAxJ",
        "outputId": "f39cd7af-a6bb-458a-b116-c6dea25212fa"
      },
      "execution_count": null,
      "outputs": [
        {
          "output_type": "stream",
          "name": "stdout",
          "text": [
            "2023-09-30 06:19:23.544814\n"
          ]
        }
      ]
    },
    {
      "cell_type": "code",
      "source": [
        "x=datetime.datetime.now().time()\n",
        "print(x)"
      ],
      "metadata": {
        "colab": {
          "base_uri": "https://localhost:8080/"
        },
        "id": "vlNjdHu7y0WX",
        "outputId": "5c9a94bc-8fa1-490a-cfb0-76333c140332"
      },
      "execution_count": null,
      "outputs": [
        {
          "output_type": "stream",
          "name": "stdout",
          "text": [
            "06:19:23.560918\n"
          ]
        }
      ]
    },
    {
      "cell_type": "code",
      "source": [
        "x = datetime.datetime(2018, 6, 1)\n",
        "\n",
        "print(x.strftime(\"%B\"))"
      ],
      "metadata": {
        "colab": {
          "base_uri": "https://localhost:8080/"
        },
        "id": "rCv8BZ6CzAbW",
        "outputId": "4560282e-3b64-4a8b-bae8-8e42b3f91770"
      },
      "execution_count": null,
      "outputs": [
        {
          "output_type": "stream",
          "name": "stdout",
          "text": [
            "June\n"
          ]
        }
      ]
    },
    {
      "cell_type": "code",
      "source": [
        "from datetime import datetime\n",
        "\n",
        "date_string = \"Feb 25 2023  4:20PM\"\n",
        "datetime_object = datetime.strptime(date_string, '%b %d %Y %I:%M%p')\n",
        "print(datetime_object)"
      ],
      "metadata": {
        "colab": {
          "base_uri": "https://localhost:8080/"
        },
        "id": "2ObMNIalzXkn",
        "outputId": "506881ee-746b-443a-828d-bd752a4e8a9c"
      },
      "execution_count": null,
      "outputs": [
        {
          "output_type": "stream",
          "name": "stdout",
          "text": [
            "2023-02-25 16:20:00\n"
          ]
        }
      ]
    },
    {
      "cell_type": "code",
      "source": [
        "from datetime import datetime, timedelta\n",
        "given_date = datetime(2023, 9, 29)\n",
        "print(\"Given date\")\n",
        "print(given_date)\n",
        "\n",
        "days_to_subtract = 7\n",
        "res_date = given_date - timedelta(days=days_to_subtract)\n",
        "print(\"New Date\")\n",
        "print(res_date)"
      ],
      "metadata": {
        "colab": {
          "base_uri": "https://localhost:8080/"
        },
        "id": "fTCqqG5p0kt-",
        "outputId": "bc0af4f2-fa44-4844-ee88-b42fd8cf2c53"
      },
      "execution_count": null,
      "outputs": [
        {
          "output_type": "stream",
          "name": "stdout",
          "text": [
            "Given date\n",
            "2023-09-29 00:00:00\n",
            "New Date\n",
            "2023-09-22 00:00:00\n"
          ]
        }
      ]
    },
    {
      "cell_type": "code",
      "source": [
        "given_date = datetime(2023, 10, 15, 10, 00, 00)\n",
        "print(\"Given date\")\n",
        "print(given_date)\n",
        "\n",
        "days_to_add = 7\n",
        "res_date = given_date + timedelta(days=days_to_add, hours=12)\n",
        "print(\"New Date\")\n",
        "print(res_date)"
      ],
      "metadata": {
        "colab": {
          "base_uri": "https://localhost:8080/"
        },
        "id": "NuGKL6KZ0-MY",
        "outputId": "49338ed2-b0fa-43ee-dcba-54340e0ad1ab"
      },
      "execution_count": null,
      "outputs": [
        {
          "output_type": "stream",
          "name": "stdout",
          "text": [
            "Given date\n",
            "2023-10-15 10:00:00\n",
            "New Date\n",
            "2023-10-22 22:00:00\n"
          ]
        }
      ]
    },
    {
      "cell_type": "markdown",
      "source": [
        "#Python Projects Using Basics"
      ],
      "metadata": {
        "id": "ioZ34Ndra2bI"
      }
    },
    {
      "cell_type": "markdown",
      "source": [
        "## Acronyms using Python Project"
      ],
      "metadata": {
        "id": "XBVRCQRDaumY"
      }
    },
    {
      "cell_type": "code",
      "source": [
        "user_name = str(input(\"Enter a Phrase: \"))\n",
        "text = user_name.split()\n",
        "a = \" \"\n",
        "for i in text:\n",
        "    a = a+str(i[0]).upper()\n",
        "print(a)"
      ],
      "metadata": {
        "colab": {
          "base_uri": "https://localhost:8080/"
        },
        "id": "oKJijtsoaYkK",
        "outputId": "b45e93f7-a5a0-4088-e96f-dd6ef2adfd0f"
      },
      "execution_count": null,
      "outputs": [
        {
          "output_type": "stream",
          "name": "stdout",
          "text": [
            "Enter a Phrase: Lavanya Karimikonda\n",
            " LK\n"
          ]
        }
      ]
    },
    {
      "cell_type": "markdown",
      "source": [
        "## Email Slicer"
      ],
      "metadata": {
        "id": "xxgn10PxdKih"
      }
    },
    {
      "cell_type": "code",
      "source": [
        "email = input(\"Enter Your Email: \").strip()\n",
        "username = email[:email.index(\"@\")]\n",
        "domain_name = email[email.index(\"@\")+1:]\n",
        "format_ = (f\"Your user name is '{username}' and your domain is '{domain_name}'\")\n",
        "print(format_)"
      ],
      "metadata": {
        "colab": {
          "base_uri": "https://localhost:8080/"
        },
        "id": "2RceH7BZdRH4",
        "outputId": "24337b6c-30d3-466c-925b-4e2b67a3e7ad"
      },
      "execution_count": null,
      "outputs": [
        {
          "output_type": "stream",
          "name": "stdout",
          "text": [
            "Enter Your Email: lavanya@gmail.com\n",
            "Your user name is 'lavanya' and your domain is 'gmail.com'\n"
          ]
        }
      ]
    }
  ]
}